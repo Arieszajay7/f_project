{
  "nbformat": 4,
  "nbformat_minor": 0,
  "metadata": {
    "colab": {
      "provenance": []
    },
    "kernelspec": {
      "name": "python3",
      "display_name": "Python 3"
    },
    "language_info": {
      "name": "python"
    }
  },
  "cells": [
    {
      "cell_type": "markdown",
      "source": [
        "# Case Study 01: Sales Force Training\n",
        "\n",
        "### Perusahaan X ingin meningkatkan penjualan mereka. Dari data penjualan sebelumnya menunjukkan bahwa penjualan rata-rata yaitu $100 per transaksi. Setelah melakukan training kepada pekerja sales, didapatkan data penjualan terbaru. Projek ini bertujuan menganalisa penjualan rata-rata, apakah naik atau tidak.\n",
        "\n",
        "1.   Buatlah DataFrame 1 kolom dengan 25 baris bernama ‘TransactionAmount’\n",
        "2.   Buatlah analisis measure of central tendency dari data ‘TransactionAmount’\n",
        "3. Lakukan juga analisis measure of variability dari data ‘TransactionAmount’\n",
        "4. Tentukan H0 & H1 untuk persiapan dilakukan T-Test\n",
        "5. Lakukan proses T-Test pada data rata-rata jumlah transaksi (dengan alpha = 5%)\n",
        "6. Buatlah kesimpulan dari hasil pengujian sales force training!\n",
        "7. Membuat Power point sebagai dokumen pengumpulan tugas dari proyek yang telah dikerjakan, serta mengupload code dan power point projeknya pada github repository\n",
        "\n",
        "\n",
        "\n",
        "\n",
        "\n"
      ],
      "metadata": {
        "id": "xE7anuk50MgX"
      }
    },
    {
      "cell_type": "markdown",
      "source": [
        "## __Import Libraries__"
      ],
      "metadata": {
        "id": "8iaCGmgRvop2"
      }
    },
    {
      "cell_type": "code",
      "execution_count": null,
      "metadata": {
        "id": "f2tUSZR0vFvO"
      },
      "outputs": [],
      "source": [
        "import pandas as pd\n",
        "import numpy as np\n",
        "from scipy import stats"
      ]
    },
    {
      "cell_type": "markdown",
      "source": [
        "## _1) Membuat array sebagai dataset penjualan rata-rata sebanyak 25 baris, dengan nama kolom TransactionAmount_"
      ],
      "metadata": {
        "id": "VXdTcr6MyLlF"
      }
    },
    {
      "cell_type": "code",
      "source": [
        "ta = [100, 150, 50, 100, 130,\n",
        "      120, 100, 85, 70, 150,\n",
        "      150, 120, 50, 100, 100,\n",
        "      140, 90, 150, 50, 90,\n",
        "      120, 100, 110, 75, 65]\n",
        "DataFrame1 = pd.DataFrame(ta, columns=['Transaction_Amount']) #Memasukan list ta ke dalam dataframe DataFrame1 dengan nama kolom TransactionAmount,\n",
        "DataFrame1\n"
      ],
      "metadata": {
        "colab": {
          "base_uri": "https://localhost:8080/",
          "height": 833
        },
        "id": "m9CGYiVGxM04",
        "outputId": "eaab77cb-10d6-491b-f72e-0044ddda695f"
      },
      "execution_count": null,
      "outputs": [
        {
          "output_type": "execute_result",
          "data": {
            "text/plain": [
              "    Transaction_Amount\n",
              "0                  100\n",
              "1                  150\n",
              "2                   50\n",
              "3                  100\n",
              "4                  130\n",
              "5                  120\n",
              "6                  100\n",
              "7                   85\n",
              "8                   70\n",
              "9                  150\n",
              "10                 150\n",
              "11                 120\n",
              "12                  50\n",
              "13                 100\n",
              "14                 100\n",
              "15                 140\n",
              "16                  90\n",
              "17                 150\n",
              "18                  50\n",
              "19                  90\n",
              "20                 120\n",
              "21                 100\n",
              "22                 110\n",
              "23                  75\n",
              "24                  65"
            ],
            "text/html": [
              "\n",
              "  <div id=\"df-acb4b0e8-a1f5-4040-95d7-bccef52c64ed\" class=\"colab-df-container\">\n",
              "    <div>\n",
              "<style scoped>\n",
              "    .dataframe tbody tr th:only-of-type {\n",
              "        vertical-align: middle;\n",
              "    }\n",
              "\n",
              "    .dataframe tbody tr th {\n",
              "        vertical-align: top;\n",
              "    }\n",
              "\n",
              "    .dataframe thead th {\n",
              "        text-align: right;\n",
              "    }\n",
              "</style>\n",
              "<table border=\"1\" class=\"dataframe\">\n",
              "  <thead>\n",
              "    <tr style=\"text-align: right;\">\n",
              "      <th></th>\n",
              "      <th>Transaction_Amount</th>\n",
              "    </tr>\n",
              "  </thead>\n",
              "  <tbody>\n",
              "    <tr>\n",
              "      <th>0</th>\n",
              "      <td>100</td>\n",
              "    </tr>\n",
              "    <tr>\n",
              "      <th>1</th>\n",
              "      <td>150</td>\n",
              "    </tr>\n",
              "    <tr>\n",
              "      <th>2</th>\n",
              "      <td>50</td>\n",
              "    </tr>\n",
              "    <tr>\n",
              "      <th>3</th>\n",
              "      <td>100</td>\n",
              "    </tr>\n",
              "    <tr>\n",
              "      <th>4</th>\n",
              "      <td>130</td>\n",
              "    </tr>\n",
              "    <tr>\n",
              "      <th>5</th>\n",
              "      <td>120</td>\n",
              "    </tr>\n",
              "    <tr>\n",
              "      <th>6</th>\n",
              "      <td>100</td>\n",
              "    </tr>\n",
              "    <tr>\n",
              "      <th>7</th>\n",
              "      <td>85</td>\n",
              "    </tr>\n",
              "    <tr>\n",
              "      <th>8</th>\n",
              "      <td>70</td>\n",
              "    </tr>\n",
              "    <tr>\n",
              "      <th>9</th>\n",
              "      <td>150</td>\n",
              "    </tr>\n",
              "    <tr>\n",
              "      <th>10</th>\n",
              "      <td>150</td>\n",
              "    </tr>\n",
              "    <tr>\n",
              "      <th>11</th>\n",
              "      <td>120</td>\n",
              "    </tr>\n",
              "    <tr>\n",
              "      <th>12</th>\n",
              "      <td>50</td>\n",
              "    </tr>\n",
              "    <tr>\n",
              "      <th>13</th>\n",
              "      <td>100</td>\n",
              "    </tr>\n",
              "    <tr>\n",
              "      <th>14</th>\n",
              "      <td>100</td>\n",
              "    </tr>\n",
              "    <tr>\n",
              "      <th>15</th>\n",
              "      <td>140</td>\n",
              "    </tr>\n",
              "    <tr>\n",
              "      <th>16</th>\n",
              "      <td>90</td>\n",
              "    </tr>\n",
              "    <tr>\n",
              "      <th>17</th>\n",
              "      <td>150</td>\n",
              "    </tr>\n",
              "    <tr>\n",
              "      <th>18</th>\n",
              "      <td>50</td>\n",
              "    </tr>\n",
              "    <tr>\n",
              "      <th>19</th>\n",
              "      <td>90</td>\n",
              "    </tr>\n",
              "    <tr>\n",
              "      <th>20</th>\n",
              "      <td>120</td>\n",
              "    </tr>\n",
              "    <tr>\n",
              "      <th>21</th>\n",
              "      <td>100</td>\n",
              "    </tr>\n",
              "    <tr>\n",
              "      <th>22</th>\n",
              "      <td>110</td>\n",
              "    </tr>\n",
              "    <tr>\n",
              "      <th>23</th>\n",
              "      <td>75</td>\n",
              "    </tr>\n",
              "    <tr>\n",
              "      <th>24</th>\n",
              "      <td>65</td>\n",
              "    </tr>\n",
              "  </tbody>\n",
              "</table>\n",
              "</div>\n",
              "    <div class=\"colab-df-buttons\">\n",
              "\n",
              "  <div class=\"colab-df-container\">\n",
              "    <button class=\"colab-df-convert\" onclick=\"convertToInteractive('df-acb4b0e8-a1f5-4040-95d7-bccef52c64ed')\"\n",
              "            title=\"Convert this dataframe to an interactive table.\"\n",
              "            style=\"display:none;\">\n",
              "\n",
              "  <svg xmlns=\"http://www.w3.org/2000/svg\" height=\"24px\" viewBox=\"0 -960 960 960\">\n",
              "    <path d=\"M120-120v-720h720v720H120Zm60-500h600v-160H180v160Zm220 220h160v-160H400v160Zm0 220h160v-160H400v160ZM180-400h160v-160H180v160Zm440 0h160v-160H620v160ZM180-180h160v-160H180v160Zm440 0h160v-160H620v160Z\"/>\n",
              "  </svg>\n",
              "    </button>\n",
              "\n",
              "  <style>\n",
              "    .colab-df-container {\n",
              "      display:flex;\n",
              "      gap: 12px;\n",
              "    }\n",
              "\n",
              "    .colab-df-convert {\n",
              "      background-color: #E8F0FE;\n",
              "      border: none;\n",
              "      border-radius: 50%;\n",
              "      cursor: pointer;\n",
              "      display: none;\n",
              "      fill: #1967D2;\n",
              "      height: 32px;\n",
              "      padding: 0 0 0 0;\n",
              "      width: 32px;\n",
              "    }\n",
              "\n",
              "    .colab-df-convert:hover {\n",
              "      background-color: #E2EBFA;\n",
              "      box-shadow: 0px 1px 2px rgba(60, 64, 67, 0.3), 0px 1px 3px 1px rgba(60, 64, 67, 0.15);\n",
              "      fill: #174EA6;\n",
              "    }\n",
              "\n",
              "    .colab-df-buttons div {\n",
              "      margin-bottom: 4px;\n",
              "    }\n",
              "\n",
              "    [theme=dark] .colab-df-convert {\n",
              "      background-color: #3B4455;\n",
              "      fill: #D2E3FC;\n",
              "    }\n",
              "\n",
              "    [theme=dark] .colab-df-convert:hover {\n",
              "      background-color: #434B5C;\n",
              "      box-shadow: 0px 1px 3px 1px rgba(0, 0, 0, 0.15);\n",
              "      filter: drop-shadow(0px 1px 2px rgba(0, 0, 0, 0.3));\n",
              "      fill: #FFFFFF;\n",
              "    }\n",
              "  </style>\n",
              "\n",
              "    <script>\n",
              "      const buttonEl =\n",
              "        document.querySelector('#df-acb4b0e8-a1f5-4040-95d7-bccef52c64ed button.colab-df-convert');\n",
              "      buttonEl.style.display =\n",
              "        google.colab.kernel.accessAllowed ? 'block' : 'none';\n",
              "\n",
              "      async function convertToInteractive(key) {\n",
              "        const element = document.querySelector('#df-acb4b0e8-a1f5-4040-95d7-bccef52c64ed');\n",
              "        const dataTable =\n",
              "          await google.colab.kernel.invokeFunction('convertToInteractive',\n",
              "                                                    [key], {});\n",
              "        if (!dataTable) return;\n",
              "\n",
              "        const docLinkHtml = 'Like what you see? Visit the ' +\n",
              "          '<a target=\"_blank\" href=https://colab.research.google.com/notebooks/data_table.ipynb>data table notebook</a>'\n",
              "          + ' to learn more about interactive tables.';\n",
              "        element.innerHTML = '';\n",
              "        dataTable['output_type'] = 'display_data';\n",
              "        await google.colab.output.renderOutput(dataTable, element);\n",
              "        const docLink = document.createElement('div');\n",
              "        docLink.innerHTML = docLinkHtml;\n",
              "        element.appendChild(docLink);\n",
              "      }\n",
              "    </script>\n",
              "  </div>\n",
              "\n",
              "\n",
              "<div id=\"df-c2835167-555e-4d1a-a833-1a052f909956\">\n",
              "  <button class=\"colab-df-quickchart\" onclick=\"quickchart('df-c2835167-555e-4d1a-a833-1a052f909956')\"\n",
              "            title=\"Suggest charts\"\n",
              "            style=\"display:none;\">\n",
              "\n",
              "<svg xmlns=\"http://www.w3.org/2000/svg\" height=\"24px\"viewBox=\"0 0 24 24\"\n",
              "     width=\"24px\">\n",
              "    <g>\n",
              "        <path d=\"M19 3H5c-1.1 0-2 .9-2 2v14c0 1.1.9 2 2 2h14c1.1 0 2-.9 2-2V5c0-1.1-.9-2-2-2zM9 17H7v-7h2v7zm4 0h-2V7h2v10zm4 0h-2v-4h2v4z\"/>\n",
              "    </g>\n",
              "</svg>\n",
              "  </button>\n",
              "\n",
              "<style>\n",
              "  .colab-df-quickchart {\n",
              "      --bg-color: #E8F0FE;\n",
              "      --fill-color: #1967D2;\n",
              "      --hover-bg-color: #E2EBFA;\n",
              "      --hover-fill-color: #174EA6;\n",
              "      --disabled-fill-color: #AAA;\n",
              "      --disabled-bg-color: #DDD;\n",
              "  }\n",
              "\n",
              "  [theme=dark] .colab-df-quickchart {\n",
              "      --bg-color: #3B4455;\n",
              "      --fill-color: #D2E3FC;\n",
              "      --hover-bg-color: #434B5C;\n",
              "      --hover-fill-color: #FFFFFF;\n",
              "      --disabled-bg-color: #3B4455;\n",
              "      --disabled-fill-color: #666;\n",
              "  }\n",
              "\n",
              "  .colab-df-quickchart {\n",
              "    background-color: var(--bg-color);\n",
              "    border: none;\n",
              "    border-radius: 50%;\n",
              "    cursor: pointer;\n",
              "    display: none;\n",
              "    fill: var(--fill-color);\n",
              "    height: 32px;\n",
              "    padding: 0;\n",
              "    width: 32px;\n",
              "  }\n",
              "\n",
              "  .colab-df-quickchart:hover {\n",
              "    background-color: var(--hover-bg-color);\n",
              "    box-shadow: 0 1px 2px rgba(60, 64, 67, 0.3), 0 1px 3px 1px rgba(60, 64, 67, 0.15);\n",
              "    fill: var(--button-hover-fill-color);\n",
              "  }\n",
              "\n",
              "  .colab-df-quickchart-complete:disabled,\n",
              "  .colab-df-quickchart-complete:disabled:hover {\n",
              "    background-color: var(--disabled-bg-color);\n",
              "    fill: var(--disabled-fill-color);\n",
              "    box-shadow: none;\n",
              "  }\n",
              "\n",
              "  .colab-df-spinner {\n",
              "    border: 2px solid var(--fill-color);\n",
              "    border-color: transparent;\n",
              "    border-bottom-color: var(--fill-color);\n",
              "    animation:\n",
              "      spin 1s steps(1) infinite;\n",
              "  }\n",
              "\n",
              "  @keyframes spin {\n",
              "    0% {\n",
              "      border-color: transparent;\n",
              "      border-bottom-color: var(--fill-color);\n",
              "      border-left-color: var(--fill-color);\n",
              "    }\n",
              "    20% {\n",
              "      border-color: transparent;\n",
              "      border-left-color: var(--fill-color);\n",
              "      border-top-color: var(--fill-color);\n",
              "    }\n",
              "    30% {\n",
              "      border-color: transparent;\n",
              "      border-left-color: var(--fill-color);\n",
              "      border-top-color: var(--fill-color);\n",
              "      border-right-color: var(--fill-color);\n",
              "    }\n",
              "    40% {\n",
              "      border-color: transparent;\n",
              "      border-right-color: var(--fill-color);\n",
              "      border-top-color: var(--fill-color);\n",
              "    }\n",
              "    60% {\n",
              "      border-color: transparent;\n",
              "      border-right-color: var(--fill-color);\n",
              "    }\n",
              "    80% {\n",
              "      border-color: transparent;\n",
              "      border-right-color: var(--fill-color);\n",
              "      border-bottom-color: var(--fill-color);\n",
              "    }\n",
              "    90% {\n",
              "      border-color: transparent;\n",
              "      border-bottom-color: var(--fill-color);\n",
              "    }\n",
              "  }\n",
              "</style>\n",
              "\n",
              "  <script>\n",
              "    async function quickchart(key) {\n",
              "      const quickchartButtonEl =\n",
              "        document.querySelector('#' + key + ' button');\n",
              "      quickchartButtonEl.disabled = true;  // To prevent multiple clicks.\n",
              "      quickchartButtonEl.classList.add('colab-df-spinner');\n",
              "      try {\n",
              "        const charts = await google.colab.kernel.invokeFunction(\n",
              "            'suggestCharts', [key], {});\n",
              "      } catch (error) {\n",
              "        console.error('Error during call to suggestCharts:', error);\n",
              "      }\n",
              "      quickchartButtonEl.classList.remove('colab-df-spinner');\n",
              "      quickchartButtonEl.classList.add('colab-df-quickchart-complete');\n",
              "    }\n",
              "    (() => {\n",
              "      let quickchartButtonEl =\n",
              "        document.querySelector('#df-c2835167-555e-4d1a-a833-1a052f909956 button');\n",
              "      quickchartButtonEl.style.display =\n",
              "        google.colab.kernel.accessAllowed ? 'block' : 'none';\n",
              "    })();\n",
              "  </script>\n",
              "</div>\n",
              "\n",
              "  <div id=\"id_416cce14-cce3-4293-88a2-f438017ba830\">\n",
              "    <style>\n",
              "      .colab-df-generate {\n",
              "        background-color: #E8F0FE;\n",
              "        border: none;\n",
              "        border-radius: 50%;\n",
              "        cursor: pointer;\n",
              "        display: none;\n",
              "        fill: #1967D2;\n",
              "        height: 32px;\n",
              "        padding: 0 0 0 0;\n",
              "        width: 32px;\n",
              "      }\n",
              "\n",
              "      .colab-df-generate:hover {\n",
              "        background-color: #E2EBFA;\n",
              "        box-shadow: 0px 1px 2px rgba(60, 64, 67, 0.3), 0px 1px 3px 1px rgba(60, 64, 67, 0.15);\n",
              "        fill: #174EA6;\n",
              "      }\n",
              "\n",
              "      [theme=dark] .colab-df-generate {\n",
              "        background-color: #3B4455;\n",
              "        fill: #D2E3FC;\n",
              "      }\n",
              "\n",
              "      [theme=dark] .colab-df-generate:hover {\n",
              "        background-color: #434B5C;\n",
              "        box-shadow: 0px 1px 3px 1px rgba(0, 0, 0, 0.15);\n",
              "        filter: drop-shadow(0px 1px 2px rgba(0, 0, 0, 0.3));\n",
              "        fill: #FFFFFF;\n",
              "      }\n",
              "    </style>\n",
              "    <button class=\"colab-df-generate\" onclick=\"generateWithVariable('DataFrame1')\"\n",
              "            title=\"Generate code using this dataframe.\"\n",
              "            style=\"display:none;\">\n",
              "\n",
              "  <svg xmlns=\"http://www.w3.org/2000/svg\" height=\"24px\"viewBox=\"0 0 24 24\"\n",
              "       width=\"24px\">\n",
              "    <path d=\"M7,19H8.4L18.45,9,17,7.55,7,17.6ZM5,21V16.75L18.45,3.32a2,2,0,0,1,2.83,0l1.4,1.43a1.91,1.91,0,0,1,.58,1.4,1.91,1.91,0,0,1-.58,1.4L9.25,21ZM18.45,9,17,7.55Zm-12,3A5.31,5.31,0,0,0,4.9,8.1,5.31,5.31,0,0,0,1,6.5,5.31,5.31,0,0,0,4.9,4.9,5.31,5.31,0,0,0,6.5,1,5.31,5.31,0,0,0,8.1,4.9,5.31,5.31,0,0,0,12,6.5,5.46,5.46,0,0,0,6.5,12Z\"/>\n",
              "  </svg>\n",
              "    </button>\n",
              "    <script>\n",
              "      (() => {\n",
              "      const buttonEl =\n",
              "        document.querySelector('#id_416cce14-cce3-4293-88a2-f438017ba830 button.colab-df-generate');\n",
              "      buttonEl.style.display =\n",
              "        google.colab.kernel.accessAllowed ? 'block' : 'none';\n",
              "\n",
              "      buttonEl.onclick = () => {\n",
              "        google.colab.notebook.generateWithVariable('DataFrame1');\n",
              "      }\n",
              "      })();\n",
              "    </script>\n",
              "  </div>\n",
              "\n",
              "    </div>\n",
              "  </div>\n"
            ],
            "application/vnd.google.colaboratory.intrinsic+json": {
              "type": "dataframe",
              "variable_name": "DataFrame1",
              "summary": "{\n  \"name\": \"DataFrame1\",\n  \"rows\": 25,\n  \"fields\": [\n    {\n      \"column\": \"Transaction_Amount\",\n      \"properties\": {\n        \"dtype\": \"number\",\n        \"std\": 31,\n        \"min\": 50,\n        \"max\": 150,\n        \"num_unique_values\": 12,\n        \"samples\": [\n          75,\n          110,\n          100\n        ],\n        \"semantic_type\": \"\",\n        \"description\": \"\"\n      }\n    }\n  ]\n}"
            }
          },
          "metadata": {},
          "execution_count": 5
        }
      ]
    },
    {
      "cell_type": "markdown",
      "source": [
        "## 2) Analisis measure of central tendency dari data ‘TransactionAmount’\n",
        "\n",
        "Ringkasan yang mendeskripsikan keseluruhan kumpulan data, dengan satu nilai yang mewakili titik tengah atau pusat distribusinya."
      ],
      "metadata": {
        "id": "Rwc4XYxsz8kM"
      }
    },
    {
      "cell_type": "code",
      "source": [
        "Mean = DataFrame1['Transaction_Amount'].mean() #menampilkan nilai mean\n",
        "Median = DataFrame1['Transaction_Amount'].median() #menampilkan nilai median/tengah\n",
        "Mode = DataFrame1['Transaction_Amount'].mode()[0]#menampilkan nilai modus/terbanyak\n",
        "print(\"Mean:\", Mean)\n",
        "print(\"Median:\", Median)\n",
        "print(\"Mode:\", Mode)"
      ],
      "metadata": {
        "colab": {
          "base_uri": "https://localhost:8080/"
        },
        "id": "UIGPWcBdKoat",
        "outputId": "a771a5db-e088-4a70-9646-11fc426664f9"
      },
      "execution_count": null,
      "outputs": [
        {
          "output_type": "stream",
          "name": "stdout",
          "text": [
            "Mean: 102.6\n",
            "Median: 100.0\n",
            "Mode: 100\n"
          ]
        }
      ]
    },
    {
      "cell_type": "code",
      "source": [],
      "metadata": {
        "id": "h8rnxxgVbZ_9"
      },
      "execution_count": null,
      "outputs": []
    },
    {
      "cell_type": "markdown",
      "source": [
        "## 3) Analisis measure of variability dari data ‘TransactionAmount’\n",
        "\n",
        "Menggambarkan penyebaran atau dispersi dari sekumpulan data."
      ],
      "metadata": {
        "id": "AcJ86NEqNyxt"
      }
    },
    {
      "cell_type": "code",
      "source": [
        "variance = df['TransactionAmount'].var()\n",
        "std_dev = df['TransactionAmount'].std()\n",
        "print(\"Variance:\", variance)\n",
        "print(\"Standard Deviation:\", std_dev)\n",
        "mx = DataFrame1['Transaction_Amount'].max()\n",
        "mn = DataFrame1['Transaction_Amount'].min()\n",
        "print(\"Maximum:\", mx)\n",
        "print(\"Minimum:\", mn)\n",
        "print(\"Range:\", mx - mn)\n",
        "Q1 = DataFrame1['Transaction_Amount'].quantile(0.25)\n",
        "Q2 = DataFrame1['Transaction_Amount'].quantile(0.50)\n",
        "Q3 = DataFrame1['Transaction_Amount'].quantile(0.75)\n",
        "\n",
        "\n",
        "print(\"Q1:\", Q1)\n",
        "print(\"Q2:\", Q2)\n",
        "print(\"Q3:\", Q3)\n",
        "\n"
      ],
      "metadata": {
        "colab": {
          "base_uri": "https://localhost:8080/"
        },
        "id": "tQbe1qpkORoE",
        "outputId": "9a7c2c1b-fee3-4d04-ce98-b3d8607f8913"
      },
      "execution_count": null,
      "outputs": [
        {
          "output_type": "stream",
          "name": "stdout",
          "text": [
            "Variance: 1012.7499999999997\n",
            "Standard Deviation: 31.82373328193912\n",
            "Maximum: 150\n",
            "Minimum: 50\n",
            "Range: 100\n",
            "Q1: 85.0\n",
            "Q2: 100.0\n",
            "Q3: 120.0\n"
          ]
        }
      ]
    },
    {
      "cell_type": "markdown",
      "source": [
        "## 4) Tentukan H0 & H1 untuk persiapan dilakukan T-Test\n",
        "Hipotesis untuk T-Test\n",
        "\n",
        "H0: Rata-rata jumlah transaksi sama dengan 100\n",
        "H1: Rata-rata jumlah transaksi lebih besar dari dengan 100\n",
        "## 5) Lakukan proses T-Test pada data rata-rata jumlah transaksi (dengan alpha = 5%)\n"
      ],
      "metadata": {
        "id": "eAlSqB2hpz4T"
      }
    },
    {
      "cell_type": "markdown",
      "source": [
        "# Mendefinisikan nilai alpha sebesar 5%"
      ],
      "metadata": {
        "id": "8UOI8p5l3TDI"
      }
    },
    {
      "cell_type": "code",
      "source": [
        "#stats.ttest_1samp(DataFrame1['Transaction_Amount'], 100)\n",
        "#stats.ttest_1samp(a= DataFrame1, popmean=100)"
      ],
      "metadata": {
        "colab": {
          "base_uri": "https://localhost:8080/"
        },
        "id": "7B50mOBK4fTL",
        "outputId": "2d991140-2224-448f-b7f1-d305c0a6b1f6"
      },
      "execution_count": null,
      "outputs": [
        {
          "output_type": "execute_result",
          "data": {
            "text/plain": [
              "TtestResult(statistic=array([0.40850016]), pvalue=array([0.68652848]), df=array([24]))"
            ]
          },
          "metadata": {},
          "execution_count": 65
        }
      ]
    },
    {
      "cell_type": "code",
      "source": [
        "t_stat, p_value = stats.ttest_1samp(DataFrame1['Transaction_Amount'], 100)\n",
        "alpha = 0.05\n",
        "reject = p_value < alpha\n",
        "print(\"T-Statistic:\", t_stat)\n",
        "print(\"P-Value:\", p_value)\n",
        "\n"
      ],
      "metadata": {
        "id": "08Pu_z1o-ohe",
        "colab": {
          "base_uri": "https://localhost:8080/"
        },
        "outputId": "bab1b308-231d-42c3-8861-6a3765bd0e12"
      },
      "execution_count": null,
      "outputs": [
        {
          "output_type": "stream",
          "name": "stdout",
          "text": [
            "T-Statistic: 0.4085001556802841\n",
            "P-Value: 0.6865284813438117\n"
          ]
        }
      ]
    },
    {
      "cell_type": "markdown",
      "source": [
        "## 6) Kesimpulan"
      ],
      "metadata": {
        "id": "NfM5AiNwrFIL"
      }
    },
    {
      "cell_type": "code",
      "source": [
        "kesimpulan = \"Tolak H0\" if reject else \"Gagal menolak H0\"\n",
        "print(kesimpulan)"
      ],
      "metadata": {
        "colab": {
          "base_uri": "https://localhost:8080/"
        },
        "id": "DcqhwBFHrLk8",
        "outputId": "54efca8c-90a2-4f67-e820-60ef690c4bdf"
      },
      "execution_count": null,
      "outputs": [
        {
          "output_type": "stream",
          "name": "stdout",
          "text": [
            "Gagal menolak H0\n"
          ]
        }
      ]
    },
    {
      "cell_type": "markdown",
      "source": [
        "- P-value lebih besar daripada alpha (5%), jadi gagal menolak H0\n",
        "- Training tidak berhasil, rata-rata penjualan masih $100"
      ],
      "metadata": {
        "id": "UXbakeIwqEmO"
      }
    },
    {
      "cell_type": "code",
      "source": [
        "#H1 lebih besar\n",
        "#stats.t.ppf(1-0.05, 24) #24 greed of fredom n-1 (25-1)\n",
        "cr = cr = stats.t.ppf(1-0.05, 24)\n",
        "print(\"Critical Value:\", cr)\n"
      ],
      "metadata": {
        "id": "BFnG9_Sj7oQl",
        "outputId": "eef6a74b-7875-4ee1-ed7d-0d338fcb73df",
        "colab": {
          "base_uri": "https://localhost:8080/"
        }
      },
      "execution_count": null,
      "outputs": [
        {
          "output_type": "stream",
          "name": "stdout",
          "text": [
            "Critical Value: 1.7108820799094275\n"
          ]
        }
      ]
    },
    {
      "cell_type": "markdown",
      "source": [
        "Critical Value lebih besar dibanding T-Statistic dengan jumlah 0.4085001556802841. Maka tetap gagal untuk menolak H0, dimana training tidak berpengaruh pada peningkatan penjualan."
      ],
      "metadata": {
        "id": "ChvknXQn9zmj"
      }
    },
    {
      "cell_type": "code",
      "source": [],
      "metadata": {
        "id": "52b8hkiW9vVw"
      },
      "execution_count": null,
      "outputs": []
    }
  ]
}